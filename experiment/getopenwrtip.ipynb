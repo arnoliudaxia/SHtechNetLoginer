{
 "cells": [
  {
   "cell_type": "code",
   "execution_count": 18,
   "outputs": [],
   "source": [
    "from selenium import webdriver\n",
    "from selenium.webdriver.common.by import By\n",
    "from selenium.webdriver.support.ui import WebDriverWait\n",
    "from selenium.webdriver.support import expected_conditions as EC\n",
    "\n",
    "# 登录 URL 和数据获取 URL\n",
    "login_url = \"http://192.168.15.1/cgi-bin/luci\"\n",
    "interface_url = \"http://192.168.15.1/cgi-bin/luci/admin/network/network\"\n",
    "\n",
    "# 用户名和密码（根据实际情况更改）\n",
    "username = \"admin\"\n",
    "password = \"admin\"\n",
    "\n",
    "\n",
    "# 初始化 Chrome 浏览器\n",
    "driver = webdriver.Chrome()\n",
    "\n",
    "# 访问登录页面\n",
    "driver.get(login_url)\n",
    "\n",
    "# 填写登录表单\n",
    "# username_input = driver.find_element(By.ID, 'luci_username')\n",
    "password_input = driver.find_element(By.ID, 'luci_password')\n",
    "\n",
    "# username_input.send_keys(username)\n",
    "password_input.send_keys(password)\n",
    "\n",
    "# 点击登录按钮\n",
    "login_button = driver.find_element(By.TAG_NAME, 'button')\n",
    "login_button.click()\n"
   ],
   "metadata": {
    "collapsed": false,
    "ExecuteTime": {
     "end_time": "2024-09-22T08:55:21.184015900Z",
     "start_time": "2024-09-22T08:55:18.820901700Z"
    }
   },
   "id": "f7f8ceccb157120"
  },
  {
   "cell_type": "code",
   "execution_count": 24,
   "outputs": [],
   "source": [
    "# 登录成功后，访问接口页面\n",
    "driver.get(interface_url)\n",
    "\n",
    "# 等待页面 JavaScript 执行，并等待 id=\"cbi-network-interface\" 的 div 出现\n",
    "# try:\n",
    "network_div = WebDriverWait(driver, 10).until(EC.presence_of_element_located((By.ID, 'cbi-network-interface')))\n",
    "# 查找包含 class=\"table cbi-section-table\" 的表格\n",
    "table = network_div.find_element(By.CLASS_NAME, 'cbi-section-table')\n",
    "# 查找所有表格行\n",
    "rows = table.find_elements(By.TAG_NAME, 'tr')"
   ],
   "metadata": {
    "collapsed": false,
    "ExecuteTime": {
     "end_time": "2024-09-22T09:12:40.403848500Z",
     "start_time": "2024-09-22T09:12:38.977258400Z"
    }
   },
   "id": "71d0e5abbd2b7ac0"
  },
  {
   "cell_type": "code",
   "execution_count": 25,
   "outputs": [
    {
     "name": "stdout",
     "output_type": "stream",
     "text": [
      "接口 vwan1 的 IPv4 地址是: 10.19.127.218\n",
      "接口 vwan2 的 IPv4 地址是: 10.19.127.24\n",
      "接口 vwan3 的 IPv4 地址是: 10.19.126.63\n",
      "接口 vwan4 的 IPv4 地址是: 10.19.127.241\n",
      "接口 vwan5 的 IPv4 地址是: 10.19.126.108\n"
     ]
    }
   ],
   "source": [
    "vwan_ips = {}  # 存储接口名称和对应的IP地址\n",
    "\n",
    "for row in rows:\n",
    "    try:\n",
    "        # 找到 class=\"ifacebox-head\" 的 div 并获取其文本\n",
    "        ifacebox_head = row.find_element(By.CSS_SELECTOR, 'div.ifacebox-head')\n",
    "        iface_name = ifacebox_head.text.strip()\n",
    "\n",
    "        # 筛选以 'vwan' 开头的接口\n",
    "        if iface_name.startswith('vwan'):\n",
    "            # 构造描述 div 的 ID，例如 \"vwan1-ifc-description\"\n",
    "            description_div_id = f\"{iface_name}-ifc-description\"\n",
    "\n",
    "            # 找到描述 div\n",
    "            description_div = row.find_element(By.ID, description_div_id)\n",
    "\n",
    "            # 在描述 div 中找到包含 \"IPv4:\" 的 span\n",
    "            ipv4_span = description_div.find_element(\n",
    "                By.XPATH, \".//span[strong[text()='IPv4: ']]\"\n",
    "            )\n",
    "\n",
    "            ipv4_text = ipv4_span.text  # 例如 \"IPv4: 10.19.127.218/22\"\n",
    "\n",
    "            # 提取 IP 地址部分\n",
    "            ip_address = ipv4_text.split(': ')[1].split('/')[0]\n",
    "\n",
    "            # 存储结果\n",
    "            vwan_ips[iface_name] = ip_address\n",
    "\n",
    "    except Exception as e:\n",
    "        print(f\"处理行时出错: {e}\")\n",
    "\n",
    "# 输出结果\n",
    "for iface, ip in vwan_ips.items():\n",
    "    print(f\"接口 {iface} 的 IPv4 地址是: {ip}\")"
   ],
   "metadata": {
    "collapsed": false,
    "ExecuteTime": {
     "end_time": "2024-09-22T09:13:10.554309500Z",
     "start_time": "2024-09-22T09:13:10.377968900Z"
    }
   },
   "id": "a25fe11b3cf3b86a"
  },
  {
   "cell_type": "code",
   "execution_count": 26,
   "outputs": [],
   "source": [
    "driver.close()"
   ],
   "metadata": {
    "collapsed": false,
    "ExecuteTime": {
     "end_time": "2024-09-22T09:19:41.959802100Z",
     "start_time": "2024-09-22T09:19:41.890358Z"
    }
   },
   "id": "3201cce2db9c7a4e"
  }
 ],
 "metadata": {
  "kernelspec": {
   "display_name": "Python 3",
   "language": "python",
   "name": "python3"
  },
  "language_info": {
   "codemirror_mode": {
    "name": "ipython",
    "version": 2
   },
   "file_extension": ".py",
   "mimetype": "text/x-python",
   "name": "python",
   "nbconvert_exporter": "python",
   "pygments_lexer": "ipython2",
   "version": "2.7.6"
  }
 },
 "nbformat": 4,
 "nbformat_minor": 5
}
